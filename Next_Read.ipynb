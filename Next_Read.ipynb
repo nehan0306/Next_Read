{
  "nbformat": 4,
  "nbformat_minor": 0,
  "metadata": {
    "colab": {
      "provenance": [],
      "include_colab_link": true
    },
    "kernelspec": {
      "name": "python3",
      "display_name": "Python 3"
    },
    "language_info": {
      "name": "python"
    }
  },
  "cells": [
    {
      "cell_type": "markdown",
      "metadata": {
        "id": "view-in-github",
        "colab_type": "text"
      },
      "source": [
        "<a href=\"https://colab.research.google.com/github/nehan0306/Next_Read/blob/main/Next_Read.ipynb\" target=\"_parent\"><img src=\"https://colab.research.google.com/assets/colab-badge.svg\" alt=\"Open In Colab\"/></a>"
      ]
    },
    {
      "cell_type": "code",
      "source": [
        "from google.colab import drive\n",
        "drive.mount('/content/drive')"
      ],
      "metadata": {
        "colab": {
          "base_uri": "https://localhost:8080/"
        },
        "id": "YGAT8njVNVDg",
        "outputId": "87fedfa8-97d3-441e-bcd7-67c53a50354b"
      },
      "execution_count": 1,
      "outputs": [
        {
          "output_type": "stream",
          "name": "stdout",
          "text": [
            "Mounted at /content/drive\n"
          ]
        }
      ]
    },
    {
      "cell_type": "code",
      "source": [
        "import os\n",
        "os.chdir(r'/content/drive/MyDrive/Book_Datasets')"
      ],
      "metadata": {
        "id": "wI6zGbcaLICk"
      },
      "execution_count": 49,
      "outputs": []
    },
    {
      "cell_type": "code",
      "execution_count": 50,
      "metadata": {
        "id": "9bFIA-MP5PtY"
      },
      "outputs": [],
      "source": [
        "import pandas as pd"
      ]
    },
    {
      "cell_type": "code",
      "source": [
        "books = pd.read_csv('Books.csv', low_memory = False)"
      ],
      "metadata": {
        "id": "eaSAQVnp85_x"
      },
      "execution_count": 51,
      "outputs": []
    },
    {
      "cell_type": "code",
      "source": [
        "users = pd.read_csv('Users.csv')"
      ],
      "metadata": {
        "id": "D4W5s7Hf86CL"
      },
      "execution_count": 52,
      "outputs": []
    },
    {
      "cell_type": "code",
      "source": [
        "ratings = pd.read_csv('Ratings.csv')"
      ],
      "metadata": {
        "id": "rWzsu4eO86El"
      },
      "execution_count": 53,
      "outputs": []
    },
    {
      "cell_type": "code",
      "source": [
        "books.shape"
      ],
      "metadata": {
        "id": "akOW7ir69uku",
        "colab": {
          "base_uri": "https://localhost:8080/"
        },
        "outputId": "abe0343d-10cf-4d6c-c35f-f0716cbdcab6"
      },
      "execution_count": 54,
      "outputs": [
        {
          "output_type": "execute_result",
          "data": {
            "text/plain": [
              "(271360, 8)"
            ]
          },
          "metadata": {},
          "execution_count": 54
        }
      ]
    },
    {
      "cell_type": "code",
      "source": [
        "books.sample(10)"
      ],
      "metadata": {
        "id": "HBqkFvFv86HY",
        "colab": {
          "base_uri": "https://localhost:8080/",
          "height": 913
        },
        "outputId": "9b8b54d4-fc34-4429-b444-2426af1d4d79"
      },
      "execution_count": 55,
      "outputs": [
        {
          "output_type": "execute_result",
          "data": {
            "text/plain": [
              "              ISBN                                         Book-Title  \\\n",
              "658     0449209121                          The Amazing Mrs. Pollifax   \n",
              "166650  8401380448  Escribo Tu Nombre/I Write Your Name (Plaza &am...   \n",
              "204110  1577311507    Signals:  An Inspiring Story of Life After Life   \n",
              "69742   0812932005  Prosperity: The Coming Twenty-Year Boom and Wh...   \n",
              "248472  155773772X                              A Perfect Arrangement   \n",
              "50833   0763612545                                    The Worst Witch   \n",
              "72837   0833563505  The Queen of the Damned (Vampire Chronicles (P...   \n",
              "121056  0505525895                          The Shadow Runners (2176)   \n",
              "225707  0671731696                                               SITA   \n",
              "42279   0671852884                                                Yen   \n",
              "\n",
              "            Book-Author Year-Of-Publication  \\\n",
              "658      Dorothy Gilman                1992   \n",
              "166650    Elena Quiroga                1985   \n",
              "204110  Joel Rothschild                2000   \n",
              "69742         Bob Davis                1999   \n",
              "248472   Ellen Rawlings                1992   \n",
              "50833       Jill Murphy                2000   \n",
              "72837         Anne Rice                1999   \n",
              "121056     Liz Maverick                2004   \n",
              "225707     Kate Millett                1992   \n",
              "42279       Guy Stanley                1994   \n",
              "\n",
              "                                    Publisher  \\\n",
              "658                             Fawcett Books   \n",
              "166650                        Aims Intl Books   \n",
              "204110                      New World Library   \n",
              "69742                        Random House Inc   \n",
              "248472                     Diamond Books (NY)   \n",
              "50833                   Candlewick Press (MA)   \n",
              "72837                         Sagebrush Bound   \n",
              "121056                             Love Spell   \n",
              "225707                             Touchstone   \n",
              "42279   Simon &amp; Schuster (Trade Division)   \n",
              "\n",
              "                                              Image-URL-S  \\\n",
              "658     http://images.amazon.com/images/P/0449209121.0...   \n",
              "166650  http://images.amazon.com/images/P/8401380448.0...   \n",
              "204110  http://images.amazon.com/images/P/1577311507.0...   \n",
              "69742   http://images.amazon.com/images/P/0812932005.0...   \n",
              "248472  http://images.amazon.com/images/P/155773772X.0...   \n",
              "50833   http://images.amazon.com/images/P/0763612545.0...   \n",
              "72837   http://images.amazon.com/images/P/0833563505.0...   \n",
              "121056  http://images.amazon.com/images/P/0505525895.0...   \n",
              "225707  http://images.amazon.com/images/P/0671731696.0...   \n",
              "42279   http://images.amazon.com/images/P/0671852884.0...   \n",
              "\n",
              "                                              Image-URL-M  \\\n",
              "658     http://images.amazon.com/images/P/0449209121.0...   \n",
              "166650  http://images.amazon.com/images/P/8401380448.0...   \n",
              "204110  http://images.amazon.com/images/P/1577311507.0...   \n",
              "69742   http://images.amazon.com/images/P/0812932005.0...   \n",
              "248472  http://images.amazon.com/images/P/155773772X.0...   \n",
              "50833   http://images.amazon.com/images/P/0763612545.0...   \n",
              "72837   http://images.amazon.com/images/P/0833563505.0...   \n",
              "121056  http://images.amazon.com/images/P/0505525895.0...   \n",
              "225707  http://images.amazon.com/images/P/0671731696.0...   \n",
              "42279   http://images.amazon.com/images/P/0671852884.0...   \n",
              "\n",
              "                                              Image-URL-L  \n",
              "658     http://images.amazon.com/images/P/0449209121.0...  \n",
              "166650  http://images.amazon.com/images/P/8401380448.0...  \n",
              "204110  http://images.amazon.com/images/P/1577311507.0...  \n",
              "69742   http://images.amazon.com/images/P/0812932005.0...  \n",
              "248472  http://images.amazon.com/images/P/155773772X.0...  \n",
              "50833   http://images.amazon.com/images/P/0763612545.0...  \n",
              "72837   http://images.amazon.com/images/P/0833563505.0...  \n",
              "121056  http://images.amazon.com/images/P/0505525895.0...  \n",
              "225707  http://images.amazon.com/images/P/0671731696.0...  \n",
              "42279   http://images.amazon.com/images/P/0671852884.0...  "
            ],
            "text/html": [
              "\n",
              "  <div id=\"df-a67ceef7-69b0-447d-89e3-371da158559e\">\n",
              "    <div class=\"colab-df-container\">\n",
              "      <div>\n",
              "<style scoped>\n",
              "    .dataframe tbody tr th:only-of-type {\n",
              "        vertical-align: middle;\n",
              "    }\n",
              "\n",
              "    .dataframe tbody tr th {\n",
              "        vertical-align: top;\n",
              "    }\n",
              "\n",
              "    .dataframe thead th {\n",
              "        text-align: right;\n",
              "    }\n",
              "</style>\n",
              "<table border=\"1\" class=\"dataframe\">\n",
              "  <thead>\n",
              "    <tr style=\"text-align: right;\">\n",
              "      <th></th>\n",
              "      <th>ISBN</th>\n",
              "      <th>Book-Title</th>\n",
              "      <th>Book-Author</th>\n",
              "      <th>Year-Of-Publication</th>\n",
              "      <th>Publisher</th>\n",
              "      <th>Image-URL-S</th>\n",
              "      <th>Image-URL-M</th>\n",
              "      <th>Image-URL-L</th>\n",
              "    </tr>\n",
              "  </thead>\n",
              "  <tbody>\n",
              "    <tr>\n",
              "      <th>658</th>\n",
              "      <td>0449209121</td>\n",
              "      <td>The Amazing Mrs. Pollifax</td>\n",
              "      <td>Dorothy Gilman</td>\n",
              "      <td>1992</td>\n",
              "      <td>Fawcett Books</td>\n",
              "      <td>http://images.amazon.com/images/P/0449209121.0...</td>\n",
              "      <td>http://images.amazon.com/images/P/0449209121.0...</td>\n",
              "      <td>http://images.amazon.com/images/P/0449209121.0...</td>\n",
              "    </tr>\n",
              "    <tr>\n",
              "      <th>166650</th>\n",
              "      <td>8401380448</td>\n",
              "      <td>Escribo Tu Nombre/I Write Your Name (Plaza &amp;am...</td>\n",
              "      <td>Elena Quiroga</td>\n",
              "      <td>1985</td>\n",
              "      <td>Aims Intl Books</td>\n",
              "      <td>http://images.amazon.com/images/P/8401380448.0...</td>\n",
              "      <td>http://images.amazon.com/images/P/8401380448.0...</td>\n",
              "      <td>http://images.amazon.com/images/P/8401380448.0...</td>\n",
              "    </tr>\n",
              "    <tr>\n",
              "      <th>204110</th>\n",
              "      <td>1577311507</td>\n",
              "      <td>Signals:  An Inspiring Story of Life After Life</td>\n",
              "      <td>Joel Rothschild</td>\n",
              "      <td>2000</td>\n",
              "      <td>New World Library</td>\n",
              "      <td>http://images.amazon.com/images/P/1577311507.0...</td>\n",
              "      <td>http://images.amazon.com/images/P/1577311507.0...</td>\n",
              "      <td>http://images.amazon.com/images/P/1577311507.0...</td>\n",
              "    </tr>\n",
              "    <tr>\n",
              "      <th>69742</th>\n",
              "      <td>0812932005</td>\n",
              "      <td>Prosperity: The Coming Twenty-Year Boom and Wh...</td>\n",
              "      <td>Bob Davis</td>\n",
              "      <td>1999</td>\n",
              "      <td>Random House Inc</td>\n",
              "      <td>http://images.amazon.com/images/P/0812932005.0...</td>\n",
              "      <td>http://images.amazon.com/images/P/0812932005.0...</td>\n",
              "      <td>http://images.amazon.com/images/P/0812932005.0...</td>\n",
              "    </tr>\n",
              "    <tr>\n",
              "      <th>248472</th>\n",
              "      <td>155773772X</td>\n",
              "      <td>A Perfect Arrangement</td>\n",
              "      <td>Ellen Rawlings</td>\n",
              "      <td>1992</td>\n",
              "      <td>Diamond Books (NY)</td>\n",
              "      <td>http://images.amazon.com/images/P/155773772X.0...</td>\n",
              "      <td>http://images.amazon.com/images/P/155773772X.0...</td>\n",
              "      <td>http://images.amazon.com/images/P/155773772X.0...</td>\n",
              "    </tr>\n",
              "    <tr>\n",
              "      <th>50833</th>\n",
              "      <td>0763612545</td>\n",
              "      <td>The Worst Witch</td>\n",
              "      <td>Jill Murphy</td>\n",
              "      <td>2000</td>\n",
              "      <td>Candlewick Press (MA)</td>\n",
              "      <td>http://images.amazon.com/images/P/0763612545.0...</td>\n",
              "      <td>http://images.amazon.com/images/P/0763612545.0...</td>\n",
              "      <td>http://images.amazon.com/images/P/0763612545.0...</td>\n",
              "    </tr>\n",
              "    <tr>\n",
              "      <th>72837</th>\n",
              "      <td>0833563505</td>\n",
              "      <td>The Queen of the Damned (Vampire Chronicles (P...</td>\n",
              "      <td>Anne Rice</td>\n",
              "      <td>1999</td>\n",
              "      <td>Sagebrush Bound</td>\n",
              "      <td>http://images.amazon.com/images/P/0833563505.0...</td>\n",
              "      <td>http://images.amazon.com/images/P/0833563505.0...</td>\n",
              "      <td>http://images.amazon.com/images/P/0833563505.0...</td>\n",
              "    </tr>\n",
              "    <tr>\n",
              "      <th>121056</th>\n",
              "      <td>0505525895</td>\n",
              "      <td>The Shadow Runners (2176)</td>\n",
              "      <td>Liz Maverick</td>\n",
              "      <td>2004</td>\n",
              "      <td>Love Spell</td>\n",
              "      <td>http://images.amazon.com/images/P/0505525895.0...</td>\n",
              "      <td>http://images.amazon.com/images/P/0505525895.0...</td>\n",
              "      <td>http://images.amazon.com/images/P/0505525895.0...</td>\n",
              "    </tr>\n",
              "    <tr>\n",
              "      <th>225707</th>\n",
              "      <td>0671731696</td>\n",
              "      <td>SITA</td>\n",
              "      <td>Kate Millett</td>\n",
              "      <td>1992</td>\n",
              "      <td>Touchstone</td>\n",
              "      <td>http://images.amazon.com/images/P/0671731696.0...</td>\n",
              "      <td>http://images.amazon.com/images/P/0671731696.0...</td>\n",
              "      <td>http://images.amazon.com/images/P/0671731696.0...</td>\n",
              "    </tr>\n",
              "    <tr>\n",
              "      <th>42279</th>\n",
              "      <td>0671852884</td>\n",
              "      <td>Yen</td>\n",
              "      <td>Guy Stanley</td>\n",
              "      <td>1994</td>\n",
              "      <td>Simon &amp;amp; Schuster (Trade Division)</td>\n",
              "      <td>http://images.amazon.com/images/P/0671852884.0...</td>\n",
              "      <td>http://images.amazon.com/images/P/0671852884.0...</td>\n",
              "      <td>http://images.amazon.com/images/P/0671852884.0...</td>\n",
              "    </tr>\n",
              "  </tbody>\n",
              "</table>\n",
              "</div>\n",
              "      <button class=\"colab-df-convert\" onclick=\"convertToInteractive('df-a67ceef7-69b0-447d-89e3-371da158559e')\"\n",
              "              title=\"Convert this dataframe to an interactive table.\"\n",
              "              style=\"display:none;\">\n",
              "        \n",
              "  <svg xmlns=\"http://www.w3.org/2000/svg\" height=\"24px\"viewBox=\"0 0 24 24\"\n",
              "       width=\"24px\">\n",
              "    <path d=\"M0 0h24v24H0V0z\" fill=\"none\"/>\n",
              "    <path d=\"M18.56 5.44l.94 2.06.94-2.06 2.06-.94-2.06-.94-.94-2.06-.94 2.06-2.06.94zm-11 1L8.5 8.5l.94-2.06 2.06-.94-2.06-.94L8.5 2.5l-.94 2.06-2.06.94zm10 10l.94 2.06.94-2.06 2.06-.94-2.06-.94-.94-2.06-.94 2.06-2.06.94z\"/><path d=\"M17.41 7.96l-1.37-1.37c-.4-.4-.92-.59-1.43-.59-.52 0-1.04.2-1.43.59L10.3 9.45l-7.72 7.72c-.78.78-.78 2.05 0 2.83L4 21.41c.39.39.9.59 1.41.59.51 0 1.02-.2 1.41-.59l7.78-7.78 2.81-2.81c.8-.78.8-2.07 0-2.86zM5.41 20L4 18.59l7.72-7.72 1.47 1.35L5.41 20z\"/>\n",
              "  </svg>\n",
              "      </button>\n",
              "      \n",
              "  <style>\n",
              "    .colab-df-container {\n",
              "      display:flex;\n",
              "      flex-wrap:wrap;\n",
              "      gap: 12px;\n",
              "    }\n",
              "\n",
              "    .colab-df-convert {\n",
              "      background-color: #E8F0FE;\n",
              "      border: none;\n",
              "      border-radius: 50%;\n",
              "      cursor: pointer;\n",
              "      display: none;\n",
              "      fill: #1967D2;\n",
              "      height: 32px;\n",
              "      padding: 0 0 0 0;\n",
              "      width: 32px;\n",
              "    }\n",
              "\n",
              "    .colab-df-convert:hover {\n",
              "      background-color: #E2EBFA;\n",
              "      box-shadow: 0px 1px 2px rgba(60, 64, 67, 0.3), 0px 1px 3px 1px rgba(60, 64, 67, 0.15);\n",
              "      fill: #174EA6;\n",
              "    }\n",
              "\n",
              "    [theme=dark] .colab-df-convert {\n",
              "      background-color: #3B4455;\n",
              "      fill: #D2E3FC;\n",
              "    }\n",
              "\n",
              "    [theme=dark] .colab-df-convert:hover {\n",
              "      background-color: #434B5C;\n",
              "      box-shadow: 0px 1px 3px 1px rgba(0, 0, 0, 0.15);\n",
              "      filter: drop-shadow(0px 1px 2px rgba(0, 0, 0, 0.3));\n",
              "      fill: #FFFFFF;\n",
              "    }\n",
              "  </style>\n",
              "\n",
              "      <script>\n",
              "        const buttonEl =\n",
              "          document.querySelector('#df-a67ceef7-69b0-447d-89e3-371da158559e button.colab-df-convert');\n",
              "        buttonEl.style.display =\n",
              "          google.colab.kernel.accessAllowed ? 'block' : 'none';\n",
              "\n",
              "        async function convertToInteractive(key) {\n",
              "          const element = document.querySelector('#df-a67ceef7-69b0-447d-89e3-371da158559e');\n",
              "          const dataTable =\n",
              "            await google.colab.kernel.invokeFunction('convertToInteractive',\n",
              "                                                     [key], {});\n",
              "          if (!dataTable) return;\n",
              "\n",
              "          const docLinkHtml = 'Like what you see? Visit the ' +\n",
              "            '<a target=\"_blank\" href=https://colab.research.google.com/notebooks/data_table.ipynb>data table notebook</a>'\n",
              "            + ' to learn more about interactive tables.';\n",
              "          element.innerHTML = '';\n",
              "          dataTable['output_type'] = 'display_data';\n",
              "          await google.colab.output.renderOutput(dataTable, element);\n",
              "          const docLink = document.createElement('div');\n",
              "          docLink.innerHTML = docLinkHtml;\n",
              "          element.appendChild(docLink);\n",
              "        }\n",
              "      </script>\n",
              "    </div>\n",
              "  </div>\n",
              "  "
            ]
          },
          "metadata": {},
          "execution_count": 55
        }
      ]
    },
    {
      "cell_type": "code",
      "source": [
        "users.shape"
      ],
      "metadata": {
        "id": "0pvcm7LV9yDV",
        "colab": {
          "base_uri": "https://localhost:8080/"
        },
        "outputId": "7f32e574-da67-438d-a591-c669db6b19d3"
      },
      "execution_count": 56,
      "outputs": [
        {
          "output_type": "execute_result",
          "data": {
            "text/plain": [
              "(278858, 3)"
            ]
          },
          "metadata": {},
          "execution_count": 56
        }
      ]
    },
    {
      "cell_type": "code",
      "source": [
        "users.sample(10)"
      ],
      "metadata": {
        "id": "Rn1yMiIR86J0",
        "colab": {
          "base_uri": "https://localhost:8080/",
          "height": 362
        },
        "outputId": "4b4fef4a-e5d8-4aa4-9039-15dd33674eef"
      },
      "execution_count": 57,
      "outputs": [
        {
          "output_type": "execute_result",
          "data": {
            "text/plain": [
              "        User-ID                           Location   Age\n",
              "210226   210227       nieuwegein, n/a, netherlands  31.0\n",
              "267169   267170          edmonton, alberta, canada   NaN\n",
              "212262   212263            torino, piemonte, italy  43.0\n",
              "115547   115548            barcelona, spain, spain  14.0\n",
              "148496   148497             vicenza, veneto, italy   NaN\n",
              "216079   216080    mexico, yukon territory, mexico   NaN\n",
              "127108   127109    bairnsdale, victoria, australia   NaN\n",
              "115978   115979       new york city, new york, usa   NaN\n",
              "32681     32682       arese (mi), lombardia, italy  30.0\n",
              "108663   108664  nuneaton, england, united kingdom  12.0"
            ],
            "text/html": [
              "\n",
              "  <div id=\"df-3f62f16d-fd52-47cd-a56d-b01fb126ae12\">\n",
              "    <div class=\"colab-df-container\">\n",
              "      <div>\n",
              "<style scoped>\n",
              "    .dataframe tbody tr th:only-of-type {\n",
              "        vertical-align: middle;\n",
              "    }\n",
              "\n",
              "    .dataframe tbody tr th {\n",
              "        vertical-align: top;\n",
              "    }\n",
              "\n",
              "    .dataframe thead th {\n",
              "        text-align: right;\n",
              "    }\n",
              "</style>\n",
              "<table border=\"1\" class=\"dataframe\">\n",
              "  <thead>\n",
              "    <tr style=\"text-align: right;\">\n",
              "      <th></th>\n",
              "      <th>User-ID</th>\n",
              "      <th>Location</th>\n",
              "      <th>Age</th>\n",
              "    </tr>\n",
              "  </thead>\n",
              "  <tbody>\n",
              "    <tr>\n",
              "      <th>210226</th>\n",
              "      <td>210227</td>\n",
              "      <td>nieuwegein, n/a, netherlands</td>\n",
              "      <td>31.0</td>\n",
              "    </tr>\n",
              "    <tr>\n",
              "      <th>267169</th>\n",
              "      <td>267170</td>\n",
              "      <td>edmonton, alberta, canada</td>\n",
              "      <td>NaN</td>\n",
              "    </tr>\n",
              "    <tr>\n",
              "      <th>212262</th>\n",
              "      <td>212263</td>\n",
              "      <td>torino, piemonte, italy</td>\n",
              "      <td>43.0</td>\n",
              "    </tr>\n",
              "    <tr>\n",
              "      <th>115547</th>\n",
              "      <td>115548</td>\n",
              "      <td>barcelona, spain, spain</td>\n",
              "      <td>14.0</td>\n",
              "    </tr>\n",
              "    <tr>\n",
              "      <th>148496</th>\n",
              "      <td>148497</td>\n",
              "      <td>vicenza, veneto, italy</td>\n",
              "      <td>NaN</td>\n",
              "    </tr>\n",
              "    <tr>\n",
              "      <th>216079</th>\n",
              "      <td>216080</td>\n",
              "      <td>mexico, yukon territory, mexico</td>\n",
              "      <td>NaN</td>\n",
              "    </tr>\n",
              "    <tr>\n",
              "      <th>127108</th>\n",
              "      <td>127109</td>\n",
              "      <td>bairnsdale, victoria, australia</td>\n",
              "      <td>NaN</td>\n",
              "    </tr>\n",
              "    <tr>\n",
              "      <th>115978</th>\n",
              "      <td>115979</td>\n",
              "      <td>new york city, new york, usa</td>\n",
              "      <td>NaN</td>\n",
              "    </tr>\n",
              "    <tr>\n",
              "      <th>32681</th>\n",
              "      <td>32682</td>\n",
              "      <td>arese (mi), lombardia, italy</td>\n",
              "      <td>30.0</td>\n",
              "    </tr>\n",
              "    <tr>\n",
              "      <th>108663</th>\n",
              "      <td>108664</td>\n",
              "      <td>nuneaton, england, united kingdom</td>\n",
              "      <td>12.0</td>\n",
              "    </tr>\n",
              "  </tbody>\n",
              "</table>\n",
              "</div>\n",
              "      <button class=\"colab-df-convert\" onclick=\"convertToInteractive('df-3f62f16d-fd52-47cd-a56d-b01fb126ae12')\"\n",
              "              title=\"Convert this dataframe to an interactive table.\"\n",
              "              style=\"display:none;\">\n",
              "        \n",
              "  <svg xmlns=\"http://www.w3.org/2000/svg\" height=\"24px\"viewBox=\"0 0 24 24\"\n",
              "       width=\"24px\">\n",
              "    <path d=\"M0 0h24v24H0V0z\" fill=\"none\"/>\n",
              "    <path d=\"M18.56 5.44l.94 2.06.94-2.06 2.06-.94-2.06-.94-.94-2.06-.94 2.06-2.06.94zm-11 1L8.5 8.5l.94-2.06 2.06-.94-2.06-.94L8.5 2.5l-.94 2.06-2.06.94zm10 10l.94 2.06.94-2.06 2.06-.94-2.06-.94-.94-2.06-.94 2.06-2.06.94z\"/><path d=\"M17.41 7.96l-1.37-1.37c-.4-.4-.92-.59-1.43-.59-.52 0-1.04.2-1.43.59L10.3 9.45l-7.72 7.72c-.78.78-.78 2.05 0 2.83L4 21.41c.39.39.9.59 1.41.59.51 0 1.02-.2 1.41-.59l7.78-7.78 2.81-2.81c.8-.78.8-2.07 0-2.86zM5.41 20L4 18.59l7.72-7.72 1.47 1.35L5.41 20z\"/>\n",
              "  </svg>\n",
              "      </button>\n",
              "      \n",
              "  <style>\n",
              "    .colab-df-container {\n",
              "      display:flex;\n",
              "      flex-wrap:wrap;\n",
              "      gap: 12px;\n",
              "    }\n",
              "\n",
              "    .colab-df-convert {\n",
              "      background-color: #E8F0FE;\n",
              "      border: none;\n",
              "      border-radius: 50%;\n",
              "      cursor: pointer;\n",
              "      display: none;\n",
              "      fill: #1967D2;\n",
              "      height: 32px;\n",
              "      padding: 0 0 0 0;\n",
              "      width: 32px;\n",
              "    }\n",
              "\n",
              "    .colab-df-convert:hover {\n",
              "      background-color: #E2EBFA;\n",
              "      box-shadow: 0px 1px 2px rgba(60, 64, 67, 0.3), 0px 1px 3px 1px rgba(60, 64, 67, 0.15);\n",
              "      fill: #174EA6;\n",
              "    }\n",
              "\n",
              "    [theme=dark] .colab-df-convert {\n",
              "      background-color: #3B4455;\n",
              "      fill: #D2E3FC;\n",
              "    }\n",
              "\n",
              "    [theme=dark] .colab-df-convert:hover {\n",
              "      background-color: #434B5C;\n",
              "      box-shadow: 0px 1px 3px 1px rgba(0, 0, 0, 0.15);\n",
              "      filter: drop-shadow(0px 1px 2px rgba(0, 0, 0, 0.3));\n",
              "      fill: #FFFFFF;\n",
              "    }\n",
              "  </style>\n",
              "\n",
              "      <script>\n",
              "        const buttonEl =\n",
              "          document.querySelector('#df-3f62f16d-fd52-47cd-a56d-b01fb126ae12 button.colab-df-convert');\n",
              "        buttonEl.style.display =\n",
              "          google.colab.kernel.accessAllowed ? 'block' : 'none';\n",
              "\n",
              "        async function convertToInteractive(key) {\n",
              "          const element = document.querySelector('#df-3f62f16d-fd52-47cd-a56d-b01fb126ae12');\n",
              "          const dataTable =\n",
              "            await google.colab.kernel.invokeFunction('convertToInteractive',\n",
              "                                                     [key], {});\n",
              "          if (!dataTable) return;\n",
              "\n",
              "          const docLinkHtml = 'Like what you see? Visit the ' +\n",
              "            '<a target=\"_blank\" href=https://colab.research.google.com/notebooks/data_table.ipynb>data table notebook</a>'\n",
              "            + ' to learn more about interactive tables.';\n",
              "          element.innerHTML = '';\n",
              "          dataTable['output_type'] = 'display_data';\n",
              "          await google.colab.output.renderOutput(dataTable, element);\n",
              "          const docLink = document.createElement('div');\n",
              "          docLink.innerHTML = docLinkHtml;\n",
              "          element.appendChild(docLink);\n",
              "        }\n",
              "      </script>\n",
              "    </div>\n",
              "  </div>\n",
              "  "
            ]
          },
          "metadata": {},
          "execution_count": 57
        }
      ]
    },
    {
      "cell_type": "code",
      "source": [
        "ratings.shape"
      ],
      "metadata": {
        "id": "uMYS0KLq86Mo",
        "colab": {
          "base_uri": "https://localhost:8080/"
        },
        "outputId": "a6a03860-63dd-4d93-87ce-9fe51632d7b6"
      },
      "execution_count": 58,
      "outputs": [
        {
          "output_type": "execute_result",
          "data": {
            "text/plain": [
              "(1149780, 3)"
            ]
          },
          "metadata": {},
          "execution_count": 58
        }
      ]
    },
    {
      "cell_type": "code",
      "source": [
        "ratings.sample(10)"
      ],
      "metadata": {
        "id": "1DpOKrph86PM",
        "colab": {
          "base_uri": "https://localhost:8080/",
          "height": 362
        },
        "outputId": "4b7a403e-0ecd-427c-8c5a-6c966940a26f"
      },
      "execution_count": 59,
      "outputs": [
        {
          "output_type": "execute_result",
          "data": {
            "text/plain": [
              "         User-ID        ISBN  Book-Rating\n",
              "519244    125698  0425153789           10\n",
              "1025861   245827  0892211946            0\n",
              "498773    120461  0446525871            0\n",
              "571602    137397  2203340045           10\n",
              "978954    235429  0553263579            0\n",
              "957217    231210  0886775582            0\n",
              "476613    114078  9021617919            0\n",
              "152712     35042  0440862930            0\n",
              "1132617   271622  0393320278            0\n",
              "253648     58351  086316157X           10"
            ],
            "text/html": [
              "\n",
              "  <div id=\"df-ffa2ae7f-66aa-4593-b933-05c892d63028\">\n",
              "    <div class=\"colab-df-container\">\n",
              "      <div>\n",
              "<style scoped>\n",
              "    .dataframe tbody tr th:only-of-type {\n",
              "        vertical-align: middle;\n",
              "    }\n",
              "\n",
              "    .dataframe tbody tr th {\n",
              "        vertical-align: top;\n",
              "    }\n",
              "\n",
              "    .dataframe thead th {\n",
              "        text-align: right;\n",
              "    }\n",
              "</style>\n",
              "<table border=\"1\" class=\"dataframe\">\n",
              "  <thead>\n",
              "    <tr style=\"text-align: right;\">\n",
              "      <th></th>\n",
              "      <th>User-ID</th>\n",
              "      <th>ISBN</th>\n",
              "      <th>Book-Rating</th>\n",
              "    </tr>\n",
              "  </thead>\n",
              "  <tbody>\n",
              "    <tr>\n",
              "      <th>519244</th>\n",
              "      <td>125698</td>\n",
              "      <td>0425153789</td>\n",
              "      <td>10</td>\n",
              "    </tr>\n",
              "    <tr>\n",
              "      <th>1025861</th>\n",
              "      <td>245827</td>\n",
              "      <td>0892211946</td>\n",
              "      <td>0</td>\n",
              "    </tr>\n",
              "    <tr>\n",
              "      <th>498773</th>\n",
              "      <td>120461</td>\n",
              "      <td>0446525871</td>\n",
              "      <td>0</td>\n",
              "    </tr>\n",
              "    <tr>\n",
              "      <th>571602</th>\n",
              "      <td>137397</td>\n",
              "      <td>2203340045</td>\n",
              "      <td>10</td>\n",
              "    </tr>\n",
              "    <tr>\n",
              "      <th>978954</th>\n",
              "      <td>235429</td>\n",
              "      <td>0553263579</td>\n",
              "      <td>0</td>\n",
              "    </tr>\n",
              "    <tr>\n",
              "      <th>957217</th>\n",
              "      <td>231210</td>\n",
              "      <td>0886775582</td>\n",
              "      <td>0</td>\n",
              "    </tr>\n",
              "    <tr>\n",
              "      <th>476613</th>\n",
              "      <td>114078</td>\n",
              "      <td>9021617919</td>\n",
              "      <td>0</td>\n",
              "    </tr>\n",
              "    <tr>\n",
              "      <th>152712</th>\n",
              "      <td>35042</td>\n",
              "      <td>0440862930</td>\n",
              "      <td>0</td>\n",
              "    </tr>\n",
              "    <tr>\n",
              "      <th>1132617</th>\n",
              "      <td>271622</td>\n",
              "      <td>0393320278</td>\n",
              "      <td>0</td>\n",
              "    </tr>\n",
              "    <tr>\n",
              "      <th>253648</th>\n",
              "      <td>58351</td>\n",
              "      <td>086316157X</td>\n",
              "      <td>10</td>\n",
              "    </tr>\n",
              "  </tbody>\n",
              "</table>\n",
              "</div>\n",
              "      <button class=\"colab-df-convert\" onclick=\"convertToInteractive('df-ffa2ae7f-66aa-4593-b933-05c892d63028')\"\n",
              "              title=\"Convert this dataframe to an interactive table.\"\n",
              "              style=\"display:none;\">\n",
              "        \n",
              "  <svg xmlns=\"http://www.w3.org/2000/svg\" height=\"24px\"viewBox=\"0 0 24 24\"\n",
              "       width=\"24px\">\n",
              "    <path d=\"M0 0h24v24H0V0z\" fill=\"none\"/>\n",
              "    <path d=\"M18.56 5.44l.94 2.06.94-2.06 2.06-.94-2.06-.94-.94-2.06-.94 2.06-2.06.94zm-11 1L8.5 8.5l.94-2.06 2.06-.94-2.06-.94L8.5 2.5l-.94 2.06-2.06.94zm10 10l.94 2.06.94-2.06 2.06-.94-2.06-.94-.94-2.06-.94 2.06-2.06.94z\"/><path d=\"M17.41 7.96l-1.37-1.37c-.4-.4-.92-.59-1.43-.59-.52 0-1.04.2-1.43.59L10.3 9.45l-7.72 7.72c-.78.78-.78 2.05 0 2.83L4 21.41c.39.39.9.59 1.41.59.51 0 1.02-.2 1.41-.59l7.78-7.78 2.81-2.81c.8-.78.8-2.07 0-2.86zM5.41 20L4 18.59l7.72-7.72 1.47 1.35L5.41 20z\"/>\n",
              "  </svg>\n",
              "      </button>\n",
              "      \n",
              "  <style>\n",
              "    .colab-df-container {\n",
              "      display:flex;\n",
              "      flex-wrap:wrap;\n",
              "      gap: 12px;\n",
              "    }\n",
              "\n",
              "    .colab-df-convert {\n",
              "      background-color: #E8F0FE;\n",
              "      border: none;\n",
              "      border-radius: 50%;\n",
              "      cursor: pointer;\n",
              "      display: none;\n",
              "      fill: #1967D2;\n",
              "      height: 32px;\n",
              "      padding: 0 0 0 0;\n",
              "      width: 32px;\n",
              "    }\n",
              "\n",
              "    .colab-df-convert:hover {\n",
              "      background-color: #E2EBFA;\n",
              "      box-shadow: 0px 1px 2px rgba(60, 64, 67, 0.3), 0px 1px 3px 1px rgba(60, 64, 67, 0.15);\n",
              "      fill: #174EA6;\n",
              "    }\n",
              "\n",
              "    [theme=dark] .colab-df-convert {\n",
              "      background-color: #3B4455;\n",
              "      fill: #D2E3FC;\n",
              "    }\n",
              "\n",
              "    [theme=dark] .colab-df-convert:hover {\n",
              "      background-color: #434B5C;\n",
              "      box-shadow: 0px 1px 3px 1px rgba(0, 0, 0, 0.15);\n",
              "      filter: drop-shadow(0px 1px 2px rgba(0, 0, 0, 0.3));\n",
              "      fill: #FFFFFF;\n",
              "    }\n",
              "  </style>\n",
              "\n",
              "      <script>\n",
              "        const buttonEl =\n",
              "          document.querySelector('#df-ffa2ae7f-66aa-4593-b933-05c892d63028 button.colab-df-convert');\n",
              "        buttonEl.style.display =\n",
              "          google.colab.kernel.accessAllowed ? 'block' : 'none';\n",
              "\n",
              "        async function convertToInteractive(key) {\n",
              "          const element = document.querySelector('#df-ffa2ae7f-66aa-4593-b933-05c892d63028');\n",
              "          const dataTable =\n",
              "            await google.colab.kernel.invokeFunction('convertToInteractive',\n",
              "                                                     [key], {});\n",
              "          if (!dataTable) return;\n",
              "\n",
              "          const docLinkHtml = 'Like what you see? Visit the ' +\n",
              "            '<a target=\"_blank\" href=https://colab.research.google.com/notebooks/data_table.ipynb>data table notebook</a>'\n",
              "            + ' to learn more about interactive tables.';\n",
              "          element.innerHTML = '';\n",
              "          dataTable['output_type'] = 'display_data';\n",
              "          await google.colab.output.renderOutput(dataTable, element);\n",
              "          const docLink = document.createElement('div');\n",
              "          docLink.innerHTML = docLinkHtml;\n",
              "          element.appendChild(docLink);\n",
              "        }\n",
              "      </script>\n",
              "    </div>\n",
              "  </div>\n",
              "  "
            ]
          },
          "metadata": {},
          "execution_count": 59
        }
      ]
    },
    {
      "cell_type": "code",
      "source": [
        "books.isnull().sum()"
      ],
      "metadata": {
        "id": "UFIDdjXf86Rm",
        "colab": {
          "base_uri": "https://localhost:8080/"
        },
        "outputId": "b38606a8-2a0d-4dfe-b4fd-4568e5a01803"
      },
      "execution_count": 60,
      "outputs": [
        {
          "output_type": "execute_result",
          "data": {
            "text/plain": [
              "ISBN                   0\n",
              "Book-Title             0\n",
              "Book-Author            1\n",
              "Year-Of-Publication    0\n",
              "Publisher              2\n",
              "Image-URL-S            0\n",
              "Image-URL-M            0\n",
              "Image-URL-L            3\n",
              "dtype: int64"
            ]
          },
          "metadata": {},
          "execution_count": 60
        }
      ]
    },
    {
      "cell_type": "code",
      "source": [
        "users.isnull().sum()"
      ],
      "metadata": {
        "id": "Gm1PWCNi86UN",
        "colab": {
          "base_uri": "https://localhost:8080/"
        },
        "outputId": "a40a4107-ee5b-4df4-e39c-329803467cc9"
      },
      "execution_count": 61,
      "outputs": [
        {
          "output_type": "execute_result",
          "data": {
            "text/plain": [
              "User-ID          0\n",
              "Location         0\n",
              "Age         110762\n",
              "dtype: int64"
            ]
          },
          "metadata": {},
          "execution_count": 61
        }
      ]
    },
    {
      "cell_type": "code",
      "source": [
        "ratings.isnull().sum()"
      ],
      "metadata": {
        "id": "x_ZarQtA86W5",
        "colab": {
          "base_uri": "https://localhost:8080/"
        },
        "outputId": "bc8db78d-a916-41d9-9b12-2d189bc032c5"
      },
      "execution_count": 62,
      "outputs": [
        {
          "output_type": "execute_result",
          "data": {
            "text/plain": [
              "User-ID        0\n",
              "ISBN           0\n",
              "Book-Rating    0\n",
              "dtype: int64"
            ]
          },
          "metadata": {},
          "execution_count": 62
        }
      ]
    },
    {
      "cell_type": "code",
      "source": [
        "books.duplicated().sum()"
      ],
      "metadata": {
        "id": "68CTiIzu86Ze",
        "colab": {
          "base_uri": "https://localhost:8080/"
        },
        "outputId": "08ac91eb-d3eb-46ce-90ea-88b3a7f30cea"
      },
      "execution_count": 63,
      "outputs": [
        {
          "output_type": "execute_result",
          "data": {
            "text/plain": [
              "0"
            ]
          },
          "metadata": {},
          "execution_count": 63
        }
      ]
    },
    {
      "cell_type": "code",
      "source": [
        "users.duplicated().sum()"
      ],
      "metadata": {
        "id": "BpNhrH1b86bb",
        "colab": {
          "base_uri": "https://localhost:8080/"
        },
        "outputId": "8313713a-588d-400d-b36d-eeb6682a9fa2"
      },
      "execution_count": 64,
      "outputs": [
        {
          "output_type": "execute_result",
          "data": {
            "text/plain": [
              "0"
            ]
          },
          "metadata": {},
          "execution_count": 64
        }
      ]
    },
    {
      "cell_type": "code",
      "source": [
        "ratings.duplicated().sum()"
      ],
      "metadata": {
        "id": "UM8163qW86e0",
        "colab": {
          "base_uri": "https://localhost:8080/"
        },
        "outputId": "5eeae75d-8f8a-439b-e016-8deab3d6b2fe"
      },
      "execution_count": 65,
      "outputs": [
        {
          "output_type": "execute_result",
          "data": {
            "text/plain": [
              "0"
            ]
          },
          "metadata": {},
          "execution_count": 65
        }
      ]
    },
    {
      "cell_type": "code",
      "source": [
        "rating_with_name = ratings.merge(books, on = 'ISBN')"
      ],
      "metadata": {
        "id": "CC9ZTtmJ-9zp"
      },
      "execution_count": 66,
      "outputs": []
    },
    {
      "cell_type": "code",
      "source": [
        "review_count = rating_with_name.groupby('Book-Title').count()['Book-Rating'].reset_index()"
      ],
      "metadata": {
        "id": "E595qOAU-9-7"
      },
      "execution_count": 67,
      "outputs": []
    },
    {
      "cell_type": "code",
      "source": [
        "review_count.rename(columns = {'Book-Rating': 'Review-count'}, inplace = True)"
      ],
      "metadata": {
        "id": "8Y0tL8TV--Dx"
      },
      "execution_count": 68,
      "outputs": []
    },
    {
      "cell_type": "code",
      "source": [
        "review_count"
      ],
      "metadata": {
        "id": "dynmiqtV--BO",
        "colab": {
          "base_uri": "https://localhost:8080/",
          "height": 423
        },
        "outputId": "731cae72-0411-4434-8de5-cff7fc87e2a3"
      },
      "execution_count": 69,
      "outputs": [
        {
          "output_type": "execute_result",
          "data": {
            "text/plain": [
              "                                               Book-Title  Review-count\n",
              "0        A Light in the Storm: The Civil War Diary of ...             4\n",
              "1                                   Always Have Popsicles             1\n",
              "2                    Apple Magic (The Collector's series)             1\n",
              "3        Ask Lily (Young Women of Faith: Lily Series, ...             1\n",
              "4        Beyond IBM: Leadership Marketing and Finance ...             1\n",
              "...                                                   ...           ...\n",
              "241066                                      Ã?Â?lpiraten.             2\n",
              "241067                     Ã?Â?rger mit Produkt X. Roman.             4\n",
              "241068                                Ã?Â?sterlich leben.             1\n",
              "241069                              Ã?Â?stlich der Berge.             3\n",
              "241070                                  Ã?Â?thique en toc             2\n",
              "\n",
              "[241071 rows x 2 columns]"
            ],
            "text/html": [
              "\n",
              "  <div id=\"df-fa1ce187-99a1-42f7-bf97-86fb8f5d1599\">\n",
              "    <div class=\"colab-df-container\">\n",
              "      <div>\n",
              "<style scoped>\n",
              "    .dataframe tbody tr th:only-of-type {\n",
              "        vertical-align: middle;\n",
              "    }\n",
              "\n",
              "    .dataframe tbody tr th {\n",
              "        vertical-align: top;\n",
              "    }\n",
              "\n",
              "    .dataframe thead th {\n",
              "        text-align: right;\n",
              "    }\n",
              "</style>\n",
              "<table border=\"1\" class=\"dataframe\">\n",
              "  <thead>\n",
              "    <tr style=\"text-align: right;\">\n",
              "      <th></th>\n",
              "      <th>Book-Title</th>\n",
              "      <th>Review-count</th>\n",
              "    </tr>\n",
              "  </thead>\n",
              "  <tbody>\n",
              "    <tr>\n",
              "      <th>0</th>\n",
              "      <td>A Light in the Storm: The Civil War Diary of ...</td>\n",
              "      <td>4</td>\n",
              "    </tr>\n",
              "    <tr>\n",
              "      <th>1</th>\n",
              "      <td>Always Have Popsicles</td>\n",
              "      <td>1</td>\n",
              "    </tr>\n",
              "    <tr>\n",
              "      <th>2</th>\n",
              "      <td>Apple Magic (The Collector's series)</td>\n",
              "      <td>1</td>\n",
              "    </tr>\n",
              "    <tr>\n",
              "      <th>3</th>\n",
              "      <td>Ask Lily (Young Women of Faith: Lily Series, ...</td>\n",
              "      <td>1</td>\n",
              "    </tr>\n",
              "    <tr>\n",
              "      <th>4</th>\n",
              "      <td>Beyond IBM: Leadership Marketing and Finance ...</td>\n",
              "      <td>1</td>\n",
              "    </tr>\n",
              "    <tr>\n",
              "      <th>...</th>\n",
              "      <td>...</td>\n",
              "      <td>...</td>\n",
              "    </tr>\n",
              "    <tr>\n",
              "      <th>241066</th>\n",
              "      <td>Ã?Â?lpiraten.</td>\n",
              "      <td>2</td>\n",
              "    </tr>\n",
              "    <tr>\n",
              "      <th>241067</th>\n",
              "      <td>Ã?Â?rger mit Produkt X. Roman.</td>\n",
              "      <td>4</td>\n",
              "    </tr>\n",
              "    <tr>\n",
              "      <th>241068</th>\n",
              "      <td>Ã?Â?sterlich leben.</td>\n",
              "      <td>1</td>\n",
              "    </tr>\n",
              "    <tr>\n",
              "      <th>241069</th>\n",
              "      <td>Ã?Â?stlich der Berge.</td>\n",
              "      <td>3</td>\n",
              "    </tr>\n",
              "    <tr>\n",
              "      <th>241070</th>\n",
              "      <td>Ã?Â?thique en toc</td>\n",
              "      <td>2</td>\n",
              "    </tr>\n",
              "  </tbody>\n",
              "</table>\n",
              "<p>241071 rows × 2 columns</p>\n",
              "</div>\n",
              "      <button class=\"colab-df-convert\" onclick=\"convertToInteractive('df-fa1ce187-99a1-42f7-bf97-86fb8f5d1599')\"\n",
              "              title=\"Convert this dataframe to an interactive table.\"\n",
              "              style=\"display:none;\">\n",
              "        \n",
              "  <svg xmlns=\"http://www.w3.org/2000/svg\" height=\"24px\"viewBox=\"0 0 24 24\"\n",
              "       width=\"24px\">\n",
              "    <path d=\"M0 0h24v24H0V0z\" fill=\"none\"/>\n",
              "    <path d=\"M18.56 5.44l.94 2.06.94-2.06 2.06-.94-2.06-.94-.94-2.06-.94 2.06-2.06.94zm-11 1L8.5 8.5l.94-2.06 2.06-.94-2.06-.94L8.5 2.5l-.94 2.06-2.06.94zm10 10l.94 2.06.94-2.06 2.06-.94-2.06-.94-.94-2.06-.94 2.06-2.06.94z\"/><path d=\"M17.41 7.96l-1.37-1.37c-.4-.4-.92-.59-1.43-.59-.52 0-1.04.2-1.43.59L10.3 9.45l-7.72 7.72c-.78.78-.78 2.05 0 2.83L4 21.41c.39.39.9.59 1.41.59.51 0 1.02-.2 1.41-.59l7.78-7.78 2.81-2.81c.8-.78.8-2.07 0-2.86zM5.41 20L4 18.59l7.72-7.72 1.47 1.35L5.41 20z\"/>\n",
              "  </svg>\n",
              "      </button>\n",
              "      \n",
              "  <style>\n",
              "    .colab-df-container {\n",
              "      display:flex;\n",
              "      flex-wrap:wrap;\n",
              "      gap: 12px;\n",
              "    }\n",
              "\n",
              "    .colab-df-convert {\n",
              "      background-color: #E8F0FE;\n",
              "      border: none;\n",
              "      border-radius: 50%;\n",
              "      cursor: pointer;\n",
              "      display: none;\n",
              "      fill: #1967D2;\n",
              "      height: 32px;\n",
              "      padding: 0 0 0 0;\n",
              "      width: 32px;\n",
              "    }\n",
              "\n",
              "    .colab-df-convert:hover {\n",
              "      background-color: #E2EBFA;\n",
              "      box-shadow: 0px 1px 2px rgba(60, 64, 67, 0.3), 0px 1px 3px 1px rgba(60, 64, 67, 0.15);\n",
              "      fill: #174EA6;\n",
              "    }\n",
              "\n",
              "    [theme=dark] .colab-df-convert {\n",
              "      background-color: #3B4455;\n",
              "      fill: #D2E3FC;\n",
              "    }\n",
              "\n",
              "    [theme=dark] .colab-df-convert:hover {\n",
              "      background-color: #434B5C;\n",
              "      box-shadow: 0px 1px 3px 1px rgba(0, 0, 0, 0.15);\n",
              "      filter: drop-shadow(0px 1px 2px rgba(0, 0, 0, 0.3));\n",
              "      fill: #FFFFFF;\n",
              "    }\n",
              "  </style>\n",
              "\n",
              "      <script>\n",
              "        const buttonEl =\n",
              "          document.querySelector('#df-fa1ce187-99a1-42f7-bf97-86fb8f5d1599 button.colab-df-convert');\n",
              "        buttonEl.style.display =\n",
              "          google.colab.kernel.accessAllowed ? 'block' : 'none';\n",
              "\n",
              "        async function convertToInteractive(key) {\n",
              "          const element = document.querySelector('#df-fa1ce187-99a1-42f7-bf97-86fb8f5d1599');\n",
              "          const dataTable =\n",
              "            await google.colab.kernel.invokeFunction('convertToInteractive',\n",
              "                                                     [key], {});\n",
              "          if (!dataTable) return;\n",
              "\n",
              "          const docLinkHtml = 'Like what you see? Visit the ' +\n",
              "            '<a target=\"_blank\" href=https://colab.research.google.com/notebooks/data_table.ipynb>data table notebook</a>'\n",
              "            + ' to learn more about interactive tables.';\n",
              "          element.innerHTML = '';\n",
              "          dataTable['output_type'] = 'display_data';\n",
              "          await google.colab.output.renderOutput(dataTable, element);\n",
              "          const docLink = document.createElement('div');\n",
              "          docLink.innerHTML = docLinkHtml;\n",
              "          element.appendChild(docLink);\n",
              "        }\n",
              "      </script>\n",
              "    </div>\n",
              "  </div>\n",
              "  "
            ]
          },
          "metadata": {},
          "execution_count": 69
        }
      ]
    },
    {
      "cell_type": "code",
      "source": [
        "avg_rating = rating_with_name.groupby('Book-Title').mean()['Book-Rating'].reset_index()"
      ],
      "metadata": {
        "id": "EvqsnDAG--GH",
        "colab": {
          "base_uri": "https://localhost:8080/"
        },
        "outputId": "c429a6e1-8c49-463e-bc43-fe6b665b30f0"
      },
      "execution_count": 70,
      "outputs": [
        {
          "output_type": "stream",
          "name": "stderr",
          "text": [
            "<ipython-input-70-c9ea86d84efe>:1: FutureWarning: The default value of numeric_only in DataFrameGroupBy.mean is deprecated. In a future version, numeric_only will default to False. Either specify numeric_only or select only columns which should be valid for the function.\n",
            "  avg_rating = rating_with_name.groupby('Book-Title').mean()['Book-Rating'].reset_index()\n"
          ]
        }
      ]
    },
    {
      "cell_type": "code",
      "source": [
        "avg_rating.rename(columns = {'Book-Rating': 'Avg-Rating'}, inplace = True)"
      ],
      "metadata": {
        "id": "b4QQdlu2F6KZ"
      },
      "execution_count": 71,
      "outputs": []
    },
    {
      "cell_type": "code",
      "source": [
        "avg_rating"
      ],
      "metadata": {
        "id": "TWz-IW9rF6NA",
        "colab": {
          "base_uri": "https://localhost:8080/",
          "height": 423
        },
        "outputId": "64d0d28f-b685-4a14-d19b-bbcf3bef848f"
      },
      "execution_count": 72,
      "outputs": [
        {
          "output_type": "execute_result",
          "data": {
            "text/plain": [
              "                                               Book-Title  Avg-Rating\n",
              "0        A Light in the Storm: The Civil War Diary of ...    2.250000\n",
              "1                                   Always Have Popsicles    0.000000\n",
              "2                    Apple Magic (The Collector's series)    0.000000\n",
              "3        Ask Lily (Young Women of Faith: Lily Series, ...    8.000000\n",
              "4        Beyond IBM: Leadership Marketing and Finance ...    0.000000\n",
              "...                                                   ...         ...\n",
              "241066                                      Ã?Â?lpiraten.    0.000000\n",
              "241067                     Ã?Â?rger mit Produkt X. Roman.    5.250000\n",
              "241068                                Ã?Â?sterlich leben.    7.000000\n",
              "241069                              Ã?Â?stlich der Berge.    2.666667\n",
              "241070                                  Ã?Â?thique en toc    4.000000\n",
              "\n",
              "[241071 rows x 2 columns]"
            ],
            "text/html": [
              "\n",
              "  <div id=\"df-fa2c5be6-57c1-4e82-918b-2a985aa49fd8\">\n",
              "    <div class=\"colab-df-container\">\n",
              "      <div>\n",
              "<style scoped>\n",
              "    .dataframe tbody tr th:only-of-type {\n",
              "        vertical-align: middle;\n",
              "    }\n",
              "\n",
              "    .dataframe tbody tr th {\n",
              "        vertical-align: top;\n",
              "    }\n",
              "\n",
              "    .dataframe thead th {\n",
              "        text-align: right;\n",
              "    }\n",
              "</style>\n",
              "<table border=\"1\" class=\"dataframe\">\n",
              "  <thead>\n",
              "    <tr style=\"text-align: right;\">\n",
              "      <th></th>\n",
              "      <th>Book-Title</th>\n",
              "      <th>Avg-Rating</th>\n",
              "    </tr>\n",
              "  </thead>\n",
              "  <tbody>\n",
              "    <tr>\n",
              "      <th>0</th>\n",
              "      <td>A Light in the Storm: The Civil War Diary of ...</td>\n",
              "      <td>2.250000</td>\n",
              "    </tr>\n",
              "    <tr>\n",
              "      <th>1</th>\n",
              "      <td>Always Have Popsicles</td>\n",
              "      <td>0.000000</td>\n",
              "    </tr>\n",
              "    <tr>\n",
              "      <th>2</th>\n",
              "      <td>Apple Magic (The Collector's series)</td>\n",
              "      <td>0.000000</td>\n",
              "    </tr>\n",
              "    <tr>\n",
              "      <th>3</th>\n",
              "      <td>Ask Lily (Young Women of Faith: Lily Series, ...</td>\n",
              "      <td>8.000000</td>\n",
              "    </tr>\n",
              "    <tr>\n",
              "      <th>4</th>\n",
              "      <td>Beyond IBM: Leadership Marketing and Finance ...</td>\n",
              "      <td>0.000000</td>\n",
              "    </tr>\n",
              "    <tr>\n",
              "      <th>...</th>\n",
              "      <td>...</td>\n",
              "      <td>...</td>\n",
              "    </tr>\n",
              "    <tr>\n",
              "      <th>241066</th>\n",
              "      <td>Ã?Â?lpiraten.</td>\n",
              "      <td>0.000000</td>\n",
              "    </tr>\n",
              "    <tr>\n",
              "      <th>241067</th>\n",
              "      <td>Ã?Â?rger mit Produkt X. Roman.</td>\n",
              "      <td>5.250000</td>\n",
              "    </tr>\n",
              "    <tr>\n",
              "      <th>241068</th>\n",
              "      <td>Ã?Â?sterlich leben.</td>\n",
              "      <td>7.000000</td>\n",
              "    </tr>\n",
              "    <tr>\n",
              "      <th>241069</th>\n",
              "      <td>Ã?Â?stlich der Berge.</td>\n",
              "      <td>2.666667</td>\n",
              "    </tr>\n",
              "    <tr>\n",
              "      <th>241070</th>\n",
              "      <td>Ã?Â?thique en toc</td>\n",
              "      <td>4.000000</td>\n",
              "    </tr>\n",
              "  </tbody>\n",
              "</table>\n",
              "<p>241071 rows × 2 columns</p>\n",
              "</div>\n",
              "      <button class=\"colab-df-convert\" onclick=\"convertToInteractive('df-fa2c5be6-57c1-4e82-918b-2a985aa49fd8')\"\n",
              "              title=\"Convert this dataframe to an interactive table.\"\n",
              "              style=\"display:none;\">\n",
              "        \n",
              "  <svg xmlns=\"http://www.w3.org/2000/svg\" height=\"24px\"viewBox=\"0 0 24 24\"\n",
              "       width=\"24px\">\n",
              "    <path d=\"M0 0h24v24H0V0z\" fill=\"none\"/>\n",
              "    <path d=\"M18.56 5.44l.94 2.06.94-2.06 2.06-.94-2.06-.94-.94-2.06-.94 2.06-2.06.94zm-11 1L8.5 8.5l.94-2.06 2.06-.94-2.06-.94L8.5 2.5l-.94 2.06-2.06.94zm10 10l.94 2.06.94-2.06 2.06-.94-2.06-.94-.94-2.06-.94 2.06-2.06.94z\"/><path d=\"M17.41 7.96l-1.37-1.37c-.4-.4-.92-.59-1.43-.59-.52 0-1.04.2-1.43.59L10.3 9.45l-7.72 7.72c-.78.78-.78 2.05 0 2.83L4 21.41c.39.39.9.59 1.41.59.51 0 1.02-.2 1.41-.59l7.78-7.78 2.81-2.81c.8-.78.8-2.07 0-2.86zM5.41 20L4 18.59l7.72-7.72 1.47 1.35L5.41 20z\"/>\n",
              "  </svg>\n",
              "      </button>\n",
              "      \n",
              "  <style>\n",
              "    .colab-df-container {\n",
              "      display:flex;\n",
              "      flex-wrap:wrap;\n",
              "      gap: 12px;\n",
              "    }\n",
              "\n",
              "    .colab-df-convert {\n",
              "      background-color: #E8F0FE;\n",
              "      border: none;\n",
              "      border-radius: 50%;\n",
              "      cursor: pointer;\n",
              "      display: none;\n",
              "      fill: #1967D2;\n",
              "      height: 32px;\n",
              "      padding: 0 0 0 0;\n",
              "      width: 32px;\n",
              "    }\n",
              "\n",
              "    .colab-df-convert:hover {\n",
              "      background-color: #E2EBFA;\n",
              "      box-shadow: 0px 1px 2px rgba(60, 64, 67, 0.3), 0px 1px 3px 1px rgba(60, 64, 67, 0.15);\n",
              "      fill: #174EA6;\n",
              "    }\n",
              "\n",
              "    [theme=dark] .colab-df-convert {\n",
              "      background-color: #3B4455;\n",
              "      fill: #D2E3FC;\n",
              "    }\n",
              "\n",
              "    [theme=dark] .colab-df-convert:hover {\n",
              "      background-color: #434B5C;\n",
              "      box-shadow: 0px 1px 3px 1px rgba(0, 0, 0, 0.15);\n",
              "      filter: drop-shadow(0px 1px 2px rgba(0, 0, 0, 0.3));\n",
              "      fill: #FFFFFF;\n",
              "    }\n",
              "  </style>\n",
              "\n",
              "      <script>\n",
              "        const buttonEl =\n",
              "          document.querySelector('#df-fa2c5be6-57c1-4e82-918b-2a985aa49fd8 button.colab-df-convert');\n",
              "        buttonEl.style.display =\n",
              "          google.colab.kernel.accessAllowed ? 'block' : 'none';\n",
              "\n",
              "        async function convertToInteractive(key) {\n",
              "          const element = document.querySelector('#df-fa2c5be6-57c1-4e82-918b-2a985aa49fd8');\n",
              "          const dataTable =\n",
              "            await google.colab.kernel.invokeFunction('convertToInteractive',\n",
              "                                                     [key], {});\n",
              "          if (!dataTable) return;\n",
              "\n",
              "          const docLinkHtml = 'Like what you see? Visit the ' +\n",
              "            '<a target=\"_blank\" href=https://colab.research.google.com/notebooks/data_table.ipynb>data table notebook</a>'\n",
              "            + ' to learn more about interactive tables.';\n",
              "          element.innerHTML = '';\n",
              "          dataTable['output_type'] = 'display_data';\n",
              "          await google.colab.output.renderOutput(dataTable, element);\n",
              "          const docLink = document.createElement('div');\n",
              "          docLink.innerHTML = docLinkHtml;\n",
              "          element.appendChild(docLink);\n",
              "        }\n",
              "      </script>\n",
              "    </div>\n",
              "  </div>\n",
              "  "
            ]
          },
          "metadata": {},
          "execution_count": 72
        }
      ]
    },
    {
      "cell_type": "code",
      "source": [
        "popularity_df = review_count.merge(avg_rating, on = 'Book-Title')"
      ],
      "metadata": {
        "id": "AXM9fgcjF6Pc"
      },
      "execution_count": 73,
      "outputs": []
    },
    {
      "cell_type": "code",
      "source": [
        "popularity_df.shape"
      ],
      "metadata": {
        "id": "ojsi7VHkF6SD",
        "colab": {
          "base_uri": "https://localhost:8080/"
        },
        "outputId": "e8c2abe3-a620-410a-fbca-643429445ac9"
      },
      "execution_count": 74,
      "outputs": [
        {
          "output_type": "execute_result",
          "data": {
            "text/plain": [
              "(241071, 3)"
            ]
          },
          "metadata": {},
          "execution_count": 74
        }
      ]
    },
    {
      "cell_type": "code",
      "source": [
        "popularity_df[popularity_df['Review-count'] >= 250]"
      ],
      "metadata": {
        "id": "nh2l9piMF6Ug",
        "colab": {
          "base_uri": "https://localhost:8080/",
          "height": 423
        },
        "outputId": "156612c7-fc2f-414e-d325-49872d775dec"
      },
      "execution_count": 75,
      "outputs": [
        {
          "output_type": "execute_result",
          "data": {
            "text/plain": [
              "                                               Book-Title  Review-count  \\\n",
              "764                                                  1984           284   \n",
              "818                                   1st to Die: A Novel           509   \n",
              "1048                                           2nd Chance           356   \n",
              "1760                                   A Bend in the Road           346   \n",
              "2281    A Child Called \\It\\\": One Child's Courage to S...           265   \n",
              "...                                                   ...           ...   \n",
              "233850                           White Oleander : A Novel           387   \n",
              "233851       White Oleander : A Novel (Oprah's Book Club)           356   \n",
              "234740  Wicked: The Life and Times of the Wicked Witch...           326   \n",
              "234951                                        Wild Animus          2502   \n",
              "240860                                \\O\\\" Is for Outlaw\"           269   \n",
              "\n",
              "        Avg-Rating  \n",
              "764       4.454225  \n",
              "818       3.575639  \n",
              "1048      3.269663  \n",
              "1760      3.364162  \n",
              "2281      4.086792  \n",
              "...            ...  \n",
              "233850    3.506460  \n",
              "233851    3.772472  \n",
              "234740    3.766871  \n",
              "234951    1.019584  \n",
              "240860    2.988848  \n",
              "\n",
              "[186 rows x 3 columns]"
            ],
            "text/html": [
              "\n",
              "  <div id=\"df-6d2d1c87-df52-454a-b40d-cf863b50d9a6\">\n",
              "    <div class=\"colab-df-container\">\n",
              "      <div>\n",
              "<style scoped>\n",
              "    .dataframe tbody tr th:only-of-type {\n",
              "        vertical-align: middle;\n",
              "    }\n",
              "\n",
              "    .dataframe tbody tr th {\n",
              "        vertical-align: top;\n",
              "    }\n",
              "\n",
              "    .dataframe thead th {\n",
              "        text-align: right;\n",
              "    }\n",
              "</style>\n",
              "<table border=\"1\" class=\"dataframe\">\n",
              "  <thead>\n",
              "    <tr style=\"text-align: right;\">\n",
              "      <th></th>\n",
              "      <th>Book-Title</th>\n",
              "      <th>Review-count</th>\n",
              "      <th>Avg-Rating</th>\n",
              "    </tr>\n",
              "  </thead>\n",
              "  <tbody>\n",
              "    <tr>\n",
              "      <th>764</th>\n",
              "      <td>1984</td>\n",
              "      <td>284</td>\n",
              "      <td>4.454225</td>\n",
              "    </tr>\n",
              "    <tr>\n",
              "      <th>818</th>\n",
              "      <td>1st to Die: A Novel</td>\n",
              "      <td>509</td>\n",
              "      <td>3.575639</td>\n",
              "    </tr>\n",
              "    <tr>\n",
              "      <th>1048</th>\n",
              "      <td>2nd Chance</td>\n",
              "      <td>356</td>\n",
              "      <td>3.269663</td>\n",
              "    </tr>\n",
              "    <tr>\n",
              "      <th>1760</th>\n",
              "      <td>A Bend in the Road</td>\n",
              "      <td>346</td>\n",
              "      <td>3.364162</td>\n",
              "    </tr>\n",
              "    <tr>\n",
              "      <th>2281</th>\n",
              "      <td>A Child Called \\It\\\": One Child's Courage to S...</td>\n",
              "      <td>265</td>\n",
              "      <td>4.086792</td>\n",
              "    </tr>\n",
              "    <tr>\n",
              "      <th>...</th>\n",
              "      <td>...</td>\n",
              "      <td>...</td>\n",
              "      <td>...</td>\n",
              "    </tr>\n",
              "    <tr>\n",
              "      <th>233850</th>\n",
              "      <td>White Oleander : A Novel</td>\n",
              "      <td>387</td>\n",
              "      <td>3.506460</td>\n",
              "    </tr>\n",
              "    <tr>\n",
              "      <th>233851</th>\n",
              "      <td>White Oleander : A Novel (Oprah's Book Club)</td>\n",
              "      <td>356</td>\n",
              "      <td>3.772472</td>\n",
              "    </tr>\n",
              "    <tr>\n",
              "      <th>234740</th>\n",
              "      <td>Wicked: The Life and Times of the Wicked Witch...</td>\n",
              "      <td>326</td>\n",
              "      <td>3.766871</td>\n",
              "    </tr>\n",
              "    <tr>\n",
              "      <th>234951</th>\n",
              "      <td>Wild Animus</td>\n",
              "      <td>2502</td>\n",
              "      <td>1.019584</td>\n",
              "    </tr>\n",
              "    <tr>\n",
              "      <th>240860</th>\n",
              "      <td>\\O\\\" Is for Outlaw\"</td>\n",
              "      <td>269</td>\n",
              "      <td>2.988848</td>\n",
              "    </tr>\n",
              "  </tbody>\n",
              "</table>\n",
              "<p>186 rows × 3 columns</p>\n",
              "</div>\n",
              "      <button class=\"colab-df-convert\" onclick=\"convertToInteractive('df-6d2d1c87-df52-454a-b40d-cf863b50d9a6')\"\n",
              "              title=\"Convert this dataframe to an interactive table.\"\n",
              "              style=\"display:none;\">\n",
              "        \n",
              "  <svg xmlns=\"http://www.w3.org/2000/svg\" height=\"24px\"viewBox=\"0 0 24 24\"\n",
              "       width=\"24px\">\n",
              "    <path d=\"M0 0h24v24H0V0z\" fill=\"none\"/>\n",
              "    <path d=\"M18.56 5.44l.94 2.06.94-2.06 2.06-.94-2.06-.94-.94-2.06-.94 2.06-2.06.94zm-11 1L8.5 8.5l.94-2.06 2.06-.94-2.06-.94L8.5 2.5l-.94 2.06-2.06.94zm10 10l.94 2.06.94-2.06 2.06-.94-2.06-.94-.94-2.06-.94 2.06-2.06.94z\"/><path d=\"M17.41 7.96l-1.37-1.37c-.4-.4-.92-.59-1.43-.59-.52 0-1.04.2-1.43.59L10.3 9.45l-7.72 7.72c-.78.78-.78 2.05 0 2.83L4 21.41c.39.39.9.59 1.41.59.51 0 1.02-.2 1.41-.59l7.78-7.78 2.81-2.81c.8-.78.8-2.07 0-2.86zM5.41 20L4 18.59l7.72-7.72 1.47 1.35L5.41 20z\"/>\n",
              "  </svg>\n",
              "      </button>\n",
              "      \n",
              "  <style>\n",
              "    .colab-df-container {\n",
              "      display:flex;\n",
              "      flex-wrap:wrap;\n",
              "      gap: 12px;\n",
              "    }\n",
              "\n",
              "    .colab-df-convert {\n",
              "      background-color: #E8F0FE;\n",
              "      border: none;\n",
              "      border-radius: 50%;\n",
              "      cursor: pointer;\n",
              "      display: none;\n",
              "      fill: #1967D2;\n",
              "      height: 32px;\n",
              "      padding: 0 0 0 0;\n",
              "      width: 32px;\n",
              "    }\n",
              "\n",
              "    .colab-df-convert:hover {\n",
              "      background-color: #E2EBFA;\n",
              "      box-shadow: 0px 1px 2px rgba(60, 64, 67, 0.3), 0px 1px 3px 1px rgba(60, 64, 67, 0.15);\n",
              "      fill: #174EA6;\n",
              "    }\n",
              "\n",
              "    [theme=dark] .colab-df-convert {\n",
              "      background-color: #3B4455;\n",
              "      fill: #D2E3FC;\n",
              "    }\n",
              "\n",
              "    [theme=dark] .colab-df-convert:hover {\n",
              "      background-color: #434B5C;\n",
              "      box-shadow: 0px 1px 3px 1px rgba(0, 0, 0, 0.15);\n",
              "      filter: drop-shadow(0px 1px 2px rgba(0, 0, 0, 0.3));\n",
              "      fill: #FFFFFF;\n",
              "    }\n",
              "  </style>\n",
              "\n",
              "      <script>\n",
              "        const buttonEl =\n",
              "          document.querySelector('#df-6d2d1c87-df52-454a-b40d-cf863b50d9a6 button.colab-df-convert');\n",
              "        buttonEl.style.display =\n",
              "          google.colab.kernel.accessAllowed ? 'block' : 'none';\n",
              "\n",
              "        async function convertToInteractive(key) {\n",
              "          const element = document.querySelector('#df-6d2d1c87-df52-454a-b40d-cf863b50d9a6');\n",
              "          const dataTable =\n",
              "            await google.colab.kernel.invokeFunction('convertToInteractive',\n",
              "                                                     [key], {});\n",
              "          if (!dataTable) return;\n",
              "\n",
              "          const docLinkHtml = 'Like what you see? Visit the ' +\n",
              "            '<a target=\"_blank\" href=https://colab.research.google.com/notebooks/data_table.ipynb>data table notebook</a>'\n",
              "            + ' to learn more about interactive tables.';\n",
              "          element.innerHTML = '';\n",
              "          dataTable['output_type'] = 'display_data';\n",
              "          await google.colab.output.renderOutput(dataTable, element);\n",
              "          const docLink = document.createElement('div');\n",
              "          docLink.innerHTML = docLinkHtml;\n",
              "          element.appendChild(docLink);\n",
              "        }\n",
              "      </script>\n",
              "    </div>\n",
              "  </div>\n",
              "  "
            ]
          },
          "metadata": {},
          "execution_count": 75
        }
      ]
    },
    {
      "cell_type": "code",
      "source": [
        "popularity_df = popularity_df[popularity_df['Review-count'] >= 250].sort_values('Avg-Rating', ascending = False).head(50)"
      ],
      "metadata": {
        "id": "4L2hr_upF6W-"
      },
      "execution_count": 76,
      "outputs": []
    },
    {
      "cell_type": "code",
      "source": [
        "popularity_df.shape"
      ],
      "metadata": {
        "id": "rdj81NWfqbC6",
        "colab": {
          "base_uri": "https://localhost:8080/"
        },
        "outputId": "3b047c85-4e97-46b0-cbfc-6ffad7096a0a"
      },
      "execution_count": 77,
      "outputs": [
        {
          "output_type": "execute_result",
          "data": {
            "text/plain": [
              "(50, 3)"
            ]
          },
          "metadata": {},
          "execution_count": 77
        }
      ]
    },
    {
      "cell_type": "code",
      "source": [
        "popularity_df = popularity_df.merge(books, on = 'Book-Title').drop_duplicates('Book-Title')"
      ],
      "metadata": {
        "id": "NsfBcKWoF6ZW"
      },
      "execution_count": 78,
      "outputs": []
    },
    {
      "cell_type": "code",
      "source": [
        "popularity_df = popularity_df[['Book-Title', 'Book-Author', 'Image-URL-M', 'Review-count', 'Avg-Rating']]"
      ],
      "metadata": {
        "id": "m1oUEI8moliJ"
      },
      "execution_count": 79,
      "outputs": []
    },
    {
      "cell_type": "code",
      "source": [
        "x = rating_with_name.groupby('User-ID').count()['Book-Rating'] > 200\n",
        "nerdy_users = x[x].index"
      ],
      "metadata": {
        "id": "wG1eWMaXF6c0"
      },
      "execution_count": 80,
      "outputs": []
    },
    {
      "cell_type": "code",
      "source": [
        "filtered_rating = rating_with_name[rating_with_name['User-ID'].isin(nerdy_users)]"
      ],
      "metadata": {
        "id": "SCkM-rY_nGAM"
      },
      "execution_count": 81,
      "outputs": []
    },
    {
      "cell_type": "code",
      "source": [
        "y = filtered_rating.groupby('Book-Title').count()['Book-Rating'] > 50\n",
        "famous_books = y[y].index"
      ],
      "metadata": {
        "id": "4TN3wDWwnGCp"
      },
      "execution_count": 82,
      "outputs": []
    },
    {
      "cell_type": "code",
      "source": [
        "final_df = filtered_rating[filtered_rating['Book-Title'].isin(famous_books)]"
      ],
      "metadata": {
        "id": "l3NKXl8mnGFD"
      },
      "execution_count": 83,
      "outputs": []
    },
    {
      "cell_type": "code",
      "source": [
        "new_table = final_df.pivot_table(index = 'Book-Title', columns = 'User-ID', values = 'Book-Rating')"
      ],
      "metadata": {
        "id": "xmO160eInGHt"
      },
      "execution_count": 84,
      "outputs": []
    },
    {
      "cell_type": "code",
      "source": [
        "new_table.fillna(0, inplace = True)"
      ],
      "metadata": {
        "id": "l7Mfl3wfnGKH"
      },
      "execution_count": 85,
      "outputs": []
    },
    {
      "cell_type": "code",
      "source": [
        "from sklearn.metrics.pairwise import cosine_similarity"
      ],
      "metadata": {
        "id": "rmT4E2kanGMd"
      },
      "execution_count": 86,
      "outputs": []
    },
    {
      "cell_type": "code",
      "source": [
        "similarity_score = cosine_similarity(new_table)"
      ],
      "metadata": {
        "id": "73AyKQ79nGO8"
      },
      "execution_count": 87,
      "outputs": []
    },
    {
      "cell_type": "code",
      "source": [
        "similarity_score.shape"
      ],
      "metadata": {
        "id": "eSaiIzPJnGRf",
        "colab": {
          "base_uri": "https://localhost:8080/"
        },
        "outputId": "589ff81d-bca5-4820-e099-2f63893d18de"
      },
      "execution_count": 88,
      "outputs": [
        {
          "output_type": "execute_result",
          "data": {
            "text/plain": [
              "(679, 679)"
            ]
          },
          "metadata": {},
          "execution_count": 88
        }
      ]
    },
    {
      "cell_type": "code",
      "source": [
        "import numpy as np"
      ],
      "metadata": {
        "id": "ysajNpyuvCWb"
      },
      "execution_count": 89,
      "outputs": []
    },
    {
      "cell_type": "code",
      "source": [
        "def recommend(book_name):\n",
        "    index = np.where(new_table.index == book_name)[0][0]\n",
        "    similar_items = sorted(list(enumerate(similarity_score[index])), key = lambda x: x[1], reverse = True)[1: 6]\n",
        "    for i in similar_items:\n",
        "        print(new_table.index[i[0]])"
      ],
      "metadata": {
        "id": "-VrZb4n4nGTn"
      },
      "execution_count": 90,
      "outputs": []
    },
    {
      "cell_type": "code",
      "source": [
        "recommend('1984')"
      ],
      "metadata": {
        "id": "f6j2W4qCnGWG",
        "colab": {
          "base_uri": "https://localhost:8080/"
        },
        "outputId": "9f70c021-7970-4b7d-bd7d-4e69f3a1b20f"
      },
      "execution_count": 92,
      "outputs": [
        {
          "output_type": "stream",
          "name": "stdout",
          "text": [
            "Animal Farm\n",
            "The Handmaid's Tale\n",
            "Brave New World\n",
            "The Vampire Lestat (Vampire Chronicles, Book II)\n",
            "The Hours : A Novel\n"
          ]
        }
      ]
    }
  ]
}